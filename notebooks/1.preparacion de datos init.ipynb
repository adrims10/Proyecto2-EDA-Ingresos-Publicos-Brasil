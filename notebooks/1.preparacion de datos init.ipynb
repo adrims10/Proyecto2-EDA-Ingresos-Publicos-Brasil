{
 "cells": [
  {
   "cell_type": "code",
   "execution_count": 2,
   "metadata": {},
   "outputs": [],
   "source": [
    "import pandas as pd\n",
    "pd.set_option('display.max_columns', None)\n",
    "import numpy as np\n",
    "from datetime import datetime\n",
    "import os\n",
    "import csv\n",
    "import sys\n",
    "sys.path.append(\"../\")\n",
    "from src import soporte_apertura as sp\n"
   ]
  },
  {
   "cell_type": "code",
   "execution_count": 3,
   "metadata": {},
   "outputs": [],
   "source": [
    "ruta_directorio = '../datos'\n",
    "dataframes_por_anio = sp.leer_archivos_csv(ruta_directorio)\n",
    "dataframe_final = pd.concat([pd.concat(dfs) for dfs in dataframes_por_anio.values()], ignore_index=True)"
   ]
  },
  {
   "cell_type": "code",
   "execution_count": 3,
   "metadata": {},
   "outputs": [
    {
     "data": {
      "text/plain": [
       "(1026299, 16)"
      ]
     },
     "execution_count": 3,
     "metadata": {},
     "output_type": "execute_result"
    }
   ],
   "source": [
    "dataframe_final.shape               #1.026.299 filas y 15 columnas"
   ]
  },
  {
   "cell_type": "code",
   "execution_count": 7,
   "metadata": {},
   "outputs": [
    {
     "data": {
      "text/html": [
       "<div>\n",
       "<style scoped>\n",
       "    .dataframe tbody tr th:only-of-type {\n",
       "        vertical-align: middle;\n",
       "    }\n",
       "\n",
       "    .dataframe tbody tr th {\n",
       "        vertical-align: top;\n",
       "    }\n",
       "\n",
       "    .dataframe thead th {\n",
       "        text-align: right;\n",
       "    }\n",
       "</style>\n",
       "<table border=\"1\" class=\"dataframe\">\n",
       "  <thead>\n",
       "    <tr style=\"text-align: right;\">\n",
       "      <th></th>\n",
       "      <th>CÓDIGO ÓRGÃO SUPERIOR</th>\n",
       "      <th>NOME ÓRGÃO SUPERIOR</th>\n",
       "      <th>CÓDIGO ÓRGÃO</th>\n",
       "      <th>NOME ÓRGÃO</th>\n",
       "      <th>CÓDIGO UNIDADE GESTORA</th>\n",
       "      <th>NOME UNIDADE GESTORA</th>\n",
       "      <th>CATEGORIA ECONÔMICA</th>\n",
       "      <th>ORIGEM RECEITA</th>\n",
       "      <th>ESPÉCIE RECEITA</th>\n",
       "      <th>DETALHAMENTO</th>\n",
       "      <th>VALOR PREVISTO ATUALIZADO</th>\n",
       "      <th>VALOR LANÇADO</th>\n",
       "      <th>VALOR REALIZADO</th>\n",
       "      <th>PERCENTUAL REALIZADO</th>\n",
       "      <th>DATA LANÇAMENTO</th>\n",
       "      <th>ANO EXERCÍCIO</th>\n",
       "    </tr>\n",
       "  </thead>\n",
       "  <tbody>\n",
       "    <tr>\n",
       "      <th>0</th>\n",
       "      <td>63000.0</td>\n",
       "      <td>NaN</td>\n",
       "      <td>63000.0</td>\n",
       "      <td>Advocacia-Geral da União - Unidades com víncul...</td>\n",
       "      <td>110060.0</td>\n",
       "      <td>COORD. GERAL DE ORC. FIN. E ANAL. CONT. - AGU</td>\n",
       "      <td>Receitas Correntes</td>\n",
       "      <td>Outras Receitas Correntes</td>\n",
       "      <td>Bens, Direitos e Valores Incorporados ao Patr</td>\n",
       "      <td>REC.DIVIDA ATIVA NAO TRIBUTARIA DE OUTRAS REC</td>\n",
       "      <td>0,00</td>\n",
       "      <td>0,00</td>\n",
       "      <td>1297,13</td>\n",
       "      <td>0,00</td>\n",
       "      <td>31/12/2013</td>\n",
       "      <td>NaN</td>\n",
       "    </tr>\n",
       "    <tr>\n",
       "      <th>1</th>\n",
       "      <td>63000.0</td>\n",
       "      <td>Advocacia-Geral da União</td>\n",
       "      <td>63000.0</td>\n",
       "      <td>Advocacia-Geral da União - Unidades com víncul...</td>\n",
       "      <td>110060.0</td>\n",
       "      <td>COORD. GERAL DE ORC. FIN. E ANAL. CONT. - AGU</td>\n",
       "      <td>Receitas Correntes</td>\n",
       "      <td>Outras Receitas Correntes</td>\n",
       "      <td>Indenizações, restituições e ressarcimentos</td>\n",
       "      <td>RECUPERACAO DE DESPESAS DE EXERC. ANTERIORES</td>\n",
       "      <td>0,00</td>\n",
       "      <td>0,00</td>\n",
       "      <td>26666621,42</td>\n",
       "      <td>0,00</td>\n",
       "      <td>31/12/2013</td>\n",
       "      <td>2013.0</td>\n",
       "    </tr>\n",
       "  </tbody>\n",
       "</table>\n",
       "</div>"
      ],
      "text/plain": [
       "   CÓDIGO ÓRGÃO SUPERIOR       NOME ÓRGÃO SUPERIOR  CÓDIGO ÓRGÃO  \\\n",
       "0                63000.0                       NaN       63000.0   \n",
       "1                63000.0  Advocacia-Geral da União       63000.0   \n",
       "\n",
       "                                          NOME ÓRGÃO  CÓDIGO UNIDADE GESTORA  \\\n",
       "0  Advocacia-Geral da União - Unidades com víncul...                110060.0   \n",
       "1  Advocacia-Geral da União - Unidades com víncul...                110060.0   \n",
       "\n",
       "                            NOME UNIDADE GESTORA CATEGORIA ECONÔMICA  \\\n",
       "0  COORD. GERAL DE ORC. FIN. E ANAL. CONT. - AGU  Receitas Correntes   \n",
       "1  COORD. GERAL DE ORC. FIN. E ANAL. CONT. - AGU  Receitas Correntes   \n",
       "\n",
       "              ORIGEM RECEITA                                ESPÉCIE RECEITA  \\\n",
       "0  Outras Receitas Correntes  Bens, Direitos e Valores Incorporados ao Patr   \n",
       "1  Outras Receitas Correntes    Indenizações, restituições e ressarcimentos   \n",
       "\n",
       "                                    DETALHAMENTO VALOR PREVISTO ATUALIZADO  \\\n",
       "0  REC.DIVIDA ATIVA NAO TRIBUTARIA DE OUTRAS REC                      0,00   \n",
       "1   RECUPERACAO DE DESPESAS DE EXERC. ANTERIORES                      0,00   \n",
       "\n",
       "  VALOR LANÇADO VALOR REALIZADO PERCENTUAL REALIZADO DATA LANÇAMENTO  \\\n",
       "0          0,00         1297,13                 0,00      31/12/2013   \n",
       "1          0,00     26666621,42                 0,00      31/12/2013   \n",
       "\n",
       "   ANO EXERCÍCIO  \n",
       "0            NaN  \n",
       "1         2013.0  "
      ]
     },
     "execution_count": 7,
     "metadata": {},
     "output_type": "execute_result"
    }
   ],
   "source": [
    "dataframe_final.head(2)"
   ]
  },
  {
   "cell_type": "code",
   "execution_count": null,
   "metadata": {},
   "outputs": [
    {
     "data": {
      "text/plain": [
       "np.int64(66)"
      ]
     },
     "execution_count": 9,
     "metadata": {},
     "output_type": "execute_result"
    }
   ],
   "source": [
    "dataframe_final.duplicated().sum()             #enontramos 66 duplicados en todo el dataframe generado\n",
    "                                            "
   ]
  },
  {
   "cell_type": "code",
   "execution_count": 5,
   "metadata": {},
   "outputs": [
    {
     "data": {
      "text/plain": [
       "np.int64(1026273)"
      ]
     },
     "execution_count": 5,
     "metadata": {},
     "output_type": "execute_result"
    }
   ],
   "source": [
    "dataframe_final['NOME ÓRGÃO SUPERIOR'].duplicated().sum()       #observamos que el organo superior es 1.026.273 el mismo\n",
    "dataframe_final['CÓDIGO ÓRGÃO SUPERIOR'].duplicated().sum()     #confirmamos este dato con el codigo del organo superior"
   ]
  },
  {
   "cell_type": "code",
   "execution_count": 11,
   "metadata": {},
   "outputs": [
    {
     "name": "stdout",
     "output_type": "stream",
     "text": [
      "51315\n",
      "39465\n"
     ]
    }
   ],
   "source": [
    "dataframe_final['VALOR PREVISTO ATUALIZADO'].isnull().sum()\n",
    "print(dataframe_final['VALOR PREVISTO ATUALIZADO'].isnull().sum())        # En el valor previsto acutalizado tenemos 51.315 nulos\n",
    "dataframe_final['VALOR REALIZADO'].isnull().sum()  \n",
    "print(dataframe_final['VALOR REALIZADO'].isnull().sum())                  # En valores realizados 39.465 nulos "
   ]
  },
  {
   "cell_type": "code",
   "execution_count": null,
   "metadata": {},
   "outputs": [
    {
     "data": {
      "text/plain": [
       "np.int64(24134)"
      ]
     },
     "execution_count": 7,
     "metadata": {},
     "output_type": "execute_result"
    }
   ],
   "source": [
    "dataframe_final['PERCENTUAL REALIZADO'].isnull().sum()              #Porcentaje realizado =  24134 nulos"
   ]
  },
  {
   "cell_type": "code",
   "execution_count": 8,
   "metadata": {},
   "outputs": [
    {
     "data": {
      "text/plain": [
       "array([nan, 'Advocacia-Geral da União', 'Controladoria-Geral da União',\n",
       "       'Ministério da Agricultura, Pecuária e Abastec',\n",
       "       'Ministério da Cidadania',\n",
       "       'Ministério da Ciência, Tecnologia, Inovações ',\n",
       "       'Ministério da Defesa', 'Ministério da Economia',\n",
       "       'Ministério da Educação', 'Ministério da Infraestrutura',\n",
       "       'Ministério da Justiça e Segurança Pública',\n",
       "       'Ministério da Mulher, Família e Direitos Huma',\n",
       "       'Ministério da Pesca e Aquicultura',\n",
       "       'Ministério da Previdência Social', 'Ministério da Saúde',\n",
       "       'Ministério das Comunicações',\n",
       "       'Ministério das Mulheres, Igualdade Racial, da',\n",
       "       'Ministério das Relações Exteriores',\n",
       "       'Ministério de Minas e Energia',\n",
       "       'Ministério do Desenvolvimento Agrário',\n",
       "       'Ministério do Desenvolvimento Regional', 'Ministério do Esporte',\n",
       "       'Ministério do Meio Ambiente', 'Ministério do Trabalho e Emprego',\n",
       "       'Ministério do Turismo', 'Presidência da República'], dtype=object)"
      ]
     },
     "execution_count": 8,
     "metadata": {},
     "output_type": "execute_result"
    }
   ],
   "source": [
    "dataframe_final['NOME ÓRGÃO SUPERIOR'].unique()     #Tenemos los ministerios"
   ]
  },
  {
   "cell_type": "code",
   "execution_count": 9,
   "metadata": {},
   "outputs": [
    {
     "data": {
      "text/plain": [
       "array([63000., 37000.,    nan, 22000., 55000., 24000., 52000., 25000.,\n",
       "       26000., 39000., 30000., 81000., 58000., 33000., 36000., 41000.,\n",
       "       57000., 35000., 32000., 49000., 53000., 51000., 44000., 38000.,\n",
       "       54000., 20000.])"
      ]
     },
     "execution_count": 9,
     "metadata": {},
     "output_type": "execute_result"
    }
   ],
   "source": [
    "dataframe_final['CÓDIGO ÓRGÃO SUPERIOR'].unique()   #codigos de los ministerios"
   ]
  },
  {
   "cell_type": "code",
   "execution_count": null,
   "metadata": {},
   "outputs": [
    {
     "data": {
      "text/plain": [
       "np.int64(359206)"
      ]
     },
     "execution_count": 10,
     "metadata": {},
     "output_type": "execute_result"
    }
   ],
   "source": [
    "dataframe_final['NOME ÓRGÃO SUPERIOR'].isnull().sum()       #Nulos en nombre de organo superior\n"
   ]
  },
  {
   "cell_type": "code",
   "execution_count": 11,
   "metadata": {},
   "outputs": [
    {
     "data": {
      "text/plain": [
       "CÓDIGO ÓRGÃO SUPERIOR        float64\n",
       "NOME ÓRGÃO SUPERIOR           object\n",
       "CÓDIGO ÓRGÃO                 float64\n",
       "NOME ÓRGÃO                    object\n",
       "CÓDIGO UNIDADE GESTORA       float64\n",
       "NOME UNIDADE GESTORA          object\n",
       "CATEGORIA ECONÔMICA           object\n",
       "ORIGEM RECEITA                object\n",
       "ESPÉCIE RECEITA               object\n",
       "DETALHAMENTO                  object\n",
       "VALOR PREVISTO ATUALIZADO     object\n",
       "VALOR LANÇADO                 object\n",
       "VALOR REALIZADO               object\n",
       "PERCENTUAL REALIZADO          object\n",
       "DATA LANÇAMENTO               object\n",
       "ANO EXERCÍCIO                float64\n",
       "dtype: object"
      ]
     },
     "execution_count": 11,
     "metadata": {},
     "output_type": "execute_result"
    }
   ],
   "source": [
    "dataframe_final.dtypes            #solo tenemos dos datos tipo float los codigos y el año del ejercicio , las damas son object, "
   ]
  },
  {
   "cell_type": "code",
   "execution_count": null,
   "metadata": {},
   "outputs": [
    {
     "data": {
      "text/plain": [
       "count     999880\n",
       "unique      6633\n",
       "top         0,00\n",
       "freq      992838\n",
       "Name: VALOR LANÇADO, dtype: object"
      ]
     },
     "execution_count": 12,
     "metadata": {},
     "output_type": "execute_result"
    }
   ],
   "source": [
    "dataframe_final['VALOR LANÇADO'].describe()                          "
   ]
  },
  {
   "cell_type": "code",
   "execution_count": null,
   "metadata": {},
   "outputs": [
    {
     "data": {
      "text/html": [
       "<div>\n",
       "<style scoped>\n",
       "    .dataframe tbody tr th:only-of-type {\n",
       "        vertical-align: middle;\n",
       "    }\n",
       "\n",
       "    .dataframe tbody tr th {\n",
       "        vertical-align: top;\n",
       "    }\n",
       "\n",
       "    .dataframe thead th {\n",
       "        text-align: right;\n",
       "    }\n",
       "</style>\n",
       "<table border=\"1\" class=\"dataframe\">\n",
       "  <thead>\n",
       "    <tr style=\"text-align: right;\">\n",
       "      <th></th>\n",
       "      <th>index</th>\n",
       "      <th>0</th>\n",
       "    </tr>\n",
       "  </thead>\n",
       "  <tbody>\n",
       "    <tr>\n",
       "      <th>0</th>\n",
       "      <td>CÓDIGO ÓRGÃO SUPERIOR</td>\n",
       "      <td>2.96</td>\n",
       "    </tr>\n",
       "    <tr>\n",
       "      <th>1</th>\n",
       "      <td>NOME ÓRGÃO SUPERIOR</td>\n",
       "      <td>35.00</td>\n",
       "    </tr>\n",
       "    <tr>\n",
       "      <th>2</th>\n",
       "      <td>CÓDIGO ÓRGÃO</td>\n",
       "      <td>2.45</td>\n",
       "    </tr>\n",
       "    <tr>\n",
       "      <th>3</th>\n",
       "      <td>NOME ÓRGÃO</td>\n",
       "      <td>3.40</td>\n",
       "    </tr>\n",
       "    <tr>\n",
       "      <th>4</th>\n",
       "      <td>CÓDIGO UNIDADE GESTORA</td>\n",
       "      <td>3.27</td>\n",
       "    </tr>\n",
       "    <tr>\n",
       "      <th>5</th>\n",
       "      <td>NOME UNIDADE GESTORA</td>\n",
       "      <td>1.90</td>\n",
       "    </tr>\n",
       "    <tr>\n",
       "      <th>6</th>\n",
       "      <td>CATEGORIA ECONÔMICA</td>\n",
       "      <td>1.85</td>\n",
       "    </tr>\n",
       "    <tr>\n",
       "      <th>7</th>\n",
       "      <td>ORIGEM RECEITA</td>\n",
       "      <td>3.74</td>\n",
       "    </tr>\n",
       "    <tr>\n",
       "      <th>8</th>\n",
       "      <td>ESPÉCIE RECEITA</td>\n",
       "      <td>3.11</td>\n",
       "    </tr>\n",
       "    <tr>\n",
       "      <th>9</th>\n",
       "      <td>DETALHAMENTO</td>\n",
       "      <td>2.86</td>\n",
       "    </tr>\n",
       "    <tr>\n",
       "      <th>10</th>\n",
       "      <td>VALOR PREVISTO ATUALIZADO</td>\n",
       "      <td>5.00</td>\n",
       "    </tr>\n",
       "    <tr>\n",
       "      <th>11</th>\n",
       "      <td>VALOR LANÇADO</td>\n",
       "      <td>2.57</td>\n",
       "    </tr>\n",
       "    <tr>\n",
       "      <th>12</th>\n",
       "      <td>VALOR REALIZADO</td>\n",
       "      <td>3.85</td>\n",
       "    </tr>\n",
       "    <tr>\n",
       "      <th>13</th>\n",
       "      <td>PERCENTUAL REALIZADO</td>\n",
       "      <td>2.35</td>\n",
       "    </tr>\n",
       "    <tr>\n",
       "      <th>14</th>\n",
       "      <td>DATA LANÇAMENTO</td>\n",
       "      <td>2.32</td>\n",
       "    </tr>\n",
       "    <tr>\n",
       "      <th>15</th>\n",
       "      <td>ANO EXERCÍCIO</td>\n",
       "      <td>25.00</td>\n",
       "    </tr>\n",
       "  </tbody>\n",
       "</table>\n",
       "</div>"
      ],
      "text/plain": [
       "                        index      0\n",
       "0       CÓDIGO ÓRGÃO SUPERIOR   2.96\n",
       "1         NOME ÓRGÃO SUPERIOR  35.00\n",
       "2                CÓDIGO ÓRGÃO   2.45\n",
       "3                  NOME ÓRGÃO   3.40\n",
       "4      CÓDIGO UNIDADE GESTORA   3.27\n",
       "5        NOME UNIDADE GESTORA   1.90\n",
       "6         CATEGORIA ECONÔMICA   1.85\n",
       "7              ORIGEM RECEITA   3.74\n",
       "8             ESPÉCIE RECEITA   3.11\n",
       "9                DETALHAMENTO   2.86\n",
       "10  VALOR PREVISTO ATUALIZADO   5.00\n",
       "11              VALOR LANÇADO   2.57\n",
       "12            VALOR REALIZADO   3.85\n",
       "13       PERCENTUAL REALIZADO   2.35\n",
       "14            DATA LANÇAMENTO   2.32\n",
       "15              ANO EXERCÍCIO  25.00"
      ]
     },
     "execution_count": 12,
     "metadata": {},
     "output_type": "execute_result"
    }
   ],
   "source": [
    "dataframe_final.isnull().sum()\n",
    "round(dataframe_final.isnull().sum()/dataframe_final.shape[0]*100,2).reset_index()        #porcentajes en cada columna de nulos"
   ]
  },
  {
   "cell_type": "code",
   "execution_count": 14,
   "metadata": {},
   "outputs": [
    {
     "data": {
      "text/plain": [
       "array([63000., 37000.,    nan, 22000., 55000., 24000., 52000., 25000.,\n",
       "       26000., 39000., 30000., 81000., 58000., 33000., 36000., 41000.,\n",
       "       57000., 35000., 32000., 49000., 53000., 51000., 44000., 38000.,\n",
       "       54000., 20000.])"
      ]
     },
     "execution_count": 14,
     "metadata": {},
     "output_type": "execute_result"
    }
   ],
   "source": [
    "dataframe_final['CÓDIGO ÓRGÃO SUPERIOR'].unique()\n"
   ]
  },
  {
   "cell_type": "code",
   "execution_count": 13,
   "metadata": {},
   "outputs": [],
   "source": [
    "array = dataframe_final['NOME ÓRGÃO SUPERIOR'].unique()"
   ]
  },
  {
   "cell_type": "code",
   "execution_count": null,
   "metadata": {},
   "outputs": [
    {
     "name": "stdout",
     "output_type": "stream",
     "text": [
      "\n",
      "Códigos correspondientes a los ministerios:\n",
      "                                             Nome   Código\n",
      "0                                             NaN      NaN\n",
      "1                        Advocacia-Geral da União  63000.0\n",
      "2                    Controladoria-Geral da União  37000.0\n",
      "3   Ministério da Agricultura, Pecuária e Abastec  22000.0\n",
      "4                         Ministério da Cidadania  55000.0\n",
      "5   Ministério da Ciência, Tecnologia, Inovações   24000.0\n",
      "6                            Ministério da Defesa  52000.0\n",
      "7                          Ministério da Economia  25000.0\n",
      "8                          Ministério da Educação  26000.0\n",
      "9                    Ministério da Infraestrutura  39000.0\n",
      "10      Ministério da Justiça e Segurança Pública  30000.0\n",
      "11  Ministério da Mulher, Família e Direitos Huma  81000.0\n",
      "12              Ministério da Pesca e Aquicultura  58000.0\n",
      "13               Ministério da Previdência Social  33000.0\n",
      "14                            Ministério da Saúde  36000.0\n",
      "15                    Ministério das Comunicações  41000.0\n",
      "16  Ministério das Mulheres, Igualdade Racial, da  57000.0\n",
      "17             Ministério das Relações Exteriores  35000.0\n",
      "18                  Ministério de Minas e Energia  32000.0\n",
      "19          Ministério do Desenvolvimento Agrário  49000.0\n",
      "20         Ministério do Desenvolvimento Regional  53000.0\n",
      "21                          Ministério do Esporte      NaN\n",
      "22                    Ministério do Meio Ambiente  44000.0\n",
      "23               Ministério do Trabalho e Emprego  38000.0\n",
      "24                          Ministério do Turismo  54000.0\n",
      "25                       Presidência da República  20000.0\n"
     ]
    }
   ],
   "source": [
    "#Sacamos los codiogos de los ministerios para la sustitucion de datos en los nombres que estaban nulos segun su codigo\n",
    "\n",
    "resultados = []\n",
    "\n",
    "for ministerio in array:\n",
    "    codigo = dataframe_final.loc[dataframe_final['NOME ÓRGÃO SUPERIOR'] == ministerio, 'CÓDIGO ÓRGÃO SUPERIOR']\n",
    "    resultados.append({'Nome': ministerio, 'Código': codigo.values[0] if not codigo.empty else None})\n",
    "\n",
    "resultados_df = pd.DataFrame(resultados)\n",
    "print(\"\\nCódigos correspondientes a los ministerios:\")                      #sacamos un diccionario que usaremos posteriormente para nulos\n",
    "print(resultados_df)"
   ]
  },
  {
   "cell_type": "code",
   "execution_count": 18,
   "metadata": {},
   "outputs": [
    {
     "data": {
      "text/plain": [
       "array([63000., 66000., 22202., 22000., 22211.,    nan, 44208., 22201.,\n",
       "       22905., 49001., 55000., 55001., 24000., 20501., 20301., 24901.,\n",
       "       20502., 24209., 20402., 49280., 52911., 52904., 52132., 52912.,\n",
       "       52131., 52121., 52111., 31280., 52000., 52133., 52221., 52211.,\n",
       "       52222., 30203., 25000., 37202., 25205., 20603., 25201., 38901.,\n",
       "       25208., 33206., 30204., 25203., 37201., 20202., 25915., 25207.,\n",
       "       25914., 22500., 25901., 25211., 25904., 61201., 28500., 25916.,\n",
       "       20924., 71902., 25905., 26435., 26276., 26000., 26285., 26233.,\n",
       "       26407., 26232., 26405., 26292., 26423., 26422., 26251., 26234.,\n",
       "       26275., 26238., 26261., 26244., 26432., 26414., 26421., 26411.,\n",
       "       26270., 26417., 26410., 26282., 26430., 26258., 26278., 26416.,\n",
       "       26253., 26420., 26418., 26408., 26240., 26246., 26433., 26428.,\n",
       "       26263., 26412., 26404., 26248., 26434., 26409., 26264., 26424.,\n",
       "       26415., 26291., 26413., 26236., 26243., 26255., 26419., 26247.,\n",
       "       26271., 26266., 26402., 26277., 26252., 26351., 26403., 26245.,\n",
       "       26294., 26298., 26425., 26427., 26268., 26429., 26256., 26290.,\n",
       "       26279., 26201., 26257., 26231., 26235., 26260., 26437., 26439.,\n",
       "       26272., 26438., 26262., 26440., 26267., 26254., 26237., 26441.,\n",
       "       26442., 26352., 26230., 26280., 26241., 26350., 26281., 26431.,\n",
       "       26249., 26269., 26436., 26250., 26284., 26426., 26239., 26406.,\n",
       "       26286., 26242., 26273., 26274., 26443., 26283., 62201., 39252.,\n",
       "       39250., 49901., 56901., 39000., 68201., 68000., 39251., 29209.,\n",
       "       62901., 39253., 39816., 39812., 39813., 39811., 39815., 39814.,\n",
       "       39817., 62000., 30802., 30108., 30905., 30907., 30202., 30211.,\n",
       "       30911., 30000., 30912., 30205., 20122., 58000., 33000., 36211.,\n",
       "       36201., 36210., 36000., 36213., 36212., 36208., 36209., 41000.,\n",
       "       20415., 41231., 41232., 41903., 64902., 64901., 35000., 35201.,\n",
       "       20303., 29208., 32000., 32205., 32263., 32210., 32314., 20302.,\n",
       "       49000., 29205., 29214., 53902., 53901., 53903., 22204., 22203.,\n",
       "       53000., 53202., 74917., 56902., 53203., 44205., 53205., 53207.,\n",
       "       74918., 91214., 44206., 44000., 44902., 20701., 44207., 44204.,\n",
       "       38000., 20403., 20604., 42207., 20411., 20412., 34902., 20203.,\n",
       "       54000., 20408., 20404., 54901., 20101., 67000., 64000., 69000.,\n",
       "       20116., 24208., 60000., 20117., 61000., 52233., 37904., 26449.,\n",
       "       26448., 90000., 26447., 26450., 29201., 74919., 20605., 37000.,\n",
       "       20129., 30914., 30913., 81000., 32396., 26456., 26455., 24216.,\n",
       "       26453., 26454., 26457., 26452.])"
      ]
     },
     "execution_count": 18,
     "metadata": {},
     "output_type": "execute_result"
    }
   ],
   "source": [
    "dataframe_final['CÓDIGO ÓRGÃO'].unique()            #codigos orgao"
   ]
  },
  {
   "cell_type": "code",
   "execution_count": 19,
   "metadata": {},
   "outputs": [
    {
     "data": {
      "text/plain": [
       "NOME ÓRGÃO\n",
       "Ministério da Economia - Unidades com vínculo direto                        115437\n",
       "Fundo do Exército                                                            24677\n",
       "Comando da Marinha - Fundo Naval                                             22924\n",
       "Fundo Nacional de Cultura                                                    15391\n",
       "Instituto Brasileiro do Meio Ambiente e dos Recursos Naturais Renováveis     13277\n",
       "                                                                             ...  \n",
       "Hospital Cristo Redentor S.A.                                                    2\n",
       "Agência de Desenvolvimento da Amazônia                                           2\n",
       "Companhia de Desenvolvimento de Barcarena                                        1\n",
       "Departamento Nacional de Estradas de Rodagem                                     1\n",
       "Hospital Fêmina S.A.                                                             1\n",
       "Name: count, Length: 287, dtype: int64"
      ]
     },
     "execution_count": 19,
     "metadata": {},
     "output_type": "execute_result"
    }
   ],
   "source": [
    "dataframe_final['NOME ÓRGÃO'].value_counts()   #nombres orgaos"
   ]
  },
  {
   "cell_type": "code",
   "execution_count": 20,
   "metadata": {},
   "outputs": [],
   "source": [
    "datos = dataframe_final.groupby('CÓDIGO UNIDADE GESTORA')['NOME UNIDADE GESTORA'].first"
   ]
  },
  {
   "cell_type": "code",
   "execution_count": 21,
   "metadata": {},
   "outputs": [
    {
     "data": {
      "text/html": [
       "<div>\n",
       "<style scoped>\n",
       "    .dataframe tbody tr th:only-of-type {\n",
       "        vertical-align: middle;\n",
       "    }\n",
       "\n",
       "    .dataframe tbody tr th {\n",
       "        vertical-align: top;\n",
       "    }\n",
       "\n",
       "    .dataframe thead th {\n",
       "        text-align: right;\n",
       "    }\n",
       "</style>\n",
       "<table border=\"1\" class=\"dataframe\">\n",
       "  <thead>\n",
       "    <tr style=\"text-align: right;\">\n",
       "      <th></th>\n",
       "      <th>index</th>\n",
       "      <th>CÓDIGO ÓRGÃO</th>\n",
       "    </tr>\n",
       "  </thead>\n",
       "  <tbody>\n",
       "    <tr>\n",
       "      <th>0</th>\n",
       "      <td>0</td>\n",
       "      <td>63000.0</td>\n",
       "    </tr>\n",
       "    <tr>\n",
       "      <th>1</th>\n",
       "      <td>1</td>\n",
       "      <td>63000.0</td>\n",
       "    </tr>\n",
       "    <tr>\n",
       "      <th>2</th>\n",
       "      <td>2</td>\n",
       "      <td>63000.0</td>\n",
       "    </tr>\n",
       "    <tr>\n",
       "      <th>3</th>\n",
       "      <td>3</td>\n",
       "      <td>63000.0</td>\n",
       "    </tr>\n",
       "    <tr>\n",
       "      <th>4</th>\n",
       "      <td>4</td>\n",
       "      <td>63000.0</td>\n",
       "    </tr>\n",
       "    <tr>\n",
       "      <th>...</th>\n",
       "      <td>...</td>\n",
       "      <td>...</td>\n",
       "    </tr>\n",
       "    <tr>\n",
       "      <th>1026294</th>\n",
       "      <td>1026294</td>\n",
       "      <td>24208.0</td>\n",
       "    </tr>\n",
       "    <tr>\n",
       "      <th>1026295</th>\n",
       "      <td>1026295</td>\n",
       "      <td>24208.0</td>\n",
       "    </tr>\n",
       "    <tr>\n",
       "      <th>1026296</th>\n",
       "      <td>1026296</td>\n",
       "      <td>24208.0</td>\n",
       "    </tr>\n",
       "    <tr>\n",
       "      <th>1026297</th>\n",
       "      <td>1026297</td>\n",
       "      <td>24208.0</td>\n",
       "    </tr>\n",
       "    <tr>\n",
       "      <th>1026298</th>\n",
       "      <td>1026298</td>\n",
       "      <td>24208.0</td>\n",
       "    </tr>\n",
       "  </tbody>\n",
       "</table>\n",
       "<p>1026299 rows × 2 columns</p>\n",
       "</div>"
      ],
      "text/plain": [
       "           index  CÓDIGO ÓRGÃO\n",
       "0              0       63000.0\n",
       "1              1       63000.0\n",
       "2              2       63000.0\n",
       "3              3       63000.0\n",
       "4              4       63000.0\n",
       "...          ...           ...\n",
       "1026294  1026294       24208.0\n",
       "1026295  1026295       24208.0\n",
       "1026296  1026296       24208.0\n",
       "1026297  1026297       24208.0\n",
       "1026298  1026298       24208.0\n",
       "\n",
       "[1026299 rows x 2 columns]"
      ]
     },
     "execution_count": 21,
     "metadata": {},
     "output_type": "execute_result"
    }
   ],
   "source": [
    "dataframe_final['CÓDIGO ÓRGÃO'].reset_index()"
   ]
  },
  {
   "cell_type": "code",
   "execution_count": 22,
   "metadata": {},
   "outputs": [],
   "source": [
    "datos = dataframe_final.groupby('CÓDIGO ÓRGÃO')['NOME ÓRGÃO'].first()\n",
    "lista_codig_orgao=list(datos.index)\n",
    "lista_nombre = list(datos.values)\n",
    "diccionario_orgao= {}\n",
    "for i in range(0,len(lista_codig_orgao)):\n",
    "    diccionario_orgao[lista_codig_orgao[i]]= lista_nombre[i]\n",
    "\n",
    "#diccionario_orgao                                                                  "
   ]
  },
  {
   "cell_type": "code",
   "execution_count": 50,
   "metadata": {},
   "outputs": [],
   "source": [
    "#dataframe_final.head(2)"
   ]
  },
  {
   "cell_type": "code",
   "execution_count": null,
   "metadata": {},
   "outputs": [],
   "source": [
    "datos1 = dataframe_final.groupby('CÓDIGO UNIDADE GESTORA')['NOME UNIDADE GESTORA'].first()\n",
    "lista_codigo_gesto=list(datos.index)\n",
    "lista_nombre1 = list(datos1.values)\n",
    "diccionario_gesto= {}\n",
    "for i in range(0,len(lista_codigo_gesto)):\n",
    "    diccionario_gesto[lista_codigo_gesto[i]]= lista_nombre1[i]\n",
    "\n",
    "#diccionario_gesto   pero esta vez para los codigos unidades gestoras                                                           "
   ]
  },
  {
   "cell_type": "code",
   "execution_count": 16,
   "metadata": {},
   "outputs": [
    {
     "data": {
      "text/html": [
       "<div>\n",
       "<style scoped>\n",
       "    .dataframe tbody tr th:only-of-type {\n",
       "        vertical-align: middle;\n",
       "    }\n",
       "\n",
       "    .dataframe tbody tr th {\n",
       "        vertical-align: top;\n",
       "    }\n",
       "\n",
       "    .dataframe thead th {\n",
       "        text-align: right;\n",
       "    }\n",
       "</style>\n",
       "<table border=\"1\" class=\"dataframe\">\n",
       "  <thead>\n",
       "    <tr style=\"text-align: right;\">\n",
       "      <th></th>\n",
       "      <th>index</th>\n",
       "      <th>0</th>\n",
       "    </tr>\n",
       "  </thead>\n",
       "  <tbody>\n",
       "    <tr>\n",
       "      <th>0</th>\n",
       "      <td>CÓDIGO ÓRGÃO SUPERIOR</td>\n",
       "      <td>float64</td>\n",
       "    </tr>\n",
       "    <tr>\n",
       "      <th>1</th>\n",
       "      <td>NOME ÓRGÃO SUPERIOR</td>\n",
       "      <td>object</td>\n",
       "    </tr>\n",
       "    <tr>\n",
       "      <th>2</th>\n",
       "      <td>CÓDIGO ÓRGÃO</td>\n",
       "      <td>float64</td>\n",
       "    </tr>\n",
       "    <tr>\n",
       "      <th>3</th>\n",
       "      <td>NOME ÓRGÃO</td>\n",
       "      <td>object</td>\n",
       "    </tr>\n",
       "    <tr>\n",
       "      <th>4</th>\n",
       "      <td>CÓDIGO UNIDADE GESTORA</td>\n",
       "      <td>float64</td>\n",
       "    </tr>\n",
       "    <tr>\n",
       "      <th>5</th>\n",
       "      <td>NOME UNIDADE GESTORA</td>\n",
       "      <td>object</td>\n",
       "    </tr>\n",
       "    <tr>\n",
       "      <th>6</th>\n",
       "      <td>CATEGORIA ECONÔMICA</td>\n",
       "      <td>object</td>\n",
       "    </tr>\n",
       "    <tr>\n",
       "      <th>7</th>\n",
       "      <td>ORIGEM RECEITA</td>\n",
       "      <td>object</td>\n",
       "    </tr>\n",
       "    <tr>\n",
       "      <th>8</th>\n",
       "      <td>ESPÉCIE RECEITA</td>\n",
       "      <td>object</td>\n",
       "    </tr>\n",
       "    <tr>\n",
       "      <th>9</th>\n",
       "      <td>DETALHAMENTO</td>\n",
       "      <td>object</td>\n",
       "    </tr>\n",
       "    <tr>\n",
       "      <th>10</th>\n",
       "      <td>VALOR PREVISTO ATUALIZADO</td>\n",
       "      <td>object</td>\n",
       "    </tr>\n",
       "    <tr>\n",
       "      <th>11</th>\n",
       "      <td>VALOR LANÇADO</td>\n",
       "      <td>object</td>\n",
       "    </tr>\n",
       "    <tr>\n",
       "      <th>12</th>\n",
       "      <td>VALOR REALIZADO</td>\n",
       "      <td>object</td>\n",
       "    </tr>\n",
       "    <tr>\n",
       "      <th>13</th>\n",
       "      <td>PERCENTUAL REALIZADO</td>\n",
       "      <td>object</td>\n",
       "    </tr>\n",
       "    <tr>\n",
       "      <th>14</th>\n",
       "      <td>DATA LANÇAMENTO</td>\n",
       "      <td>object</td>\n",
       "    </tr>\n",
       "    <tr>\n",
       "      <th>15</th>\n",
       "      <td>ANO EXERCÍCIO</td>\n",
       "      <td>float64</td>\n",
       "    </tr>\n",
       "  </tbody>\n",
       "</table>\n",
       "</div>"
      ],
      "text/plain": [
       "                        index        0\n",
       "0       CÓDIGO ÓRGÃO SUPERIOR  float64\n",
       "1         NOME ÓRGÃO SUPERIOR   object\n",
       "2                CÓDIGO ÓRGÃO  float64\n",
       "3                  NOME ÓRGÃO   object\n",
       "4      CÓDIGO UNIDADE GESTORA  float64\n",
       "5        NOME UNIDADE GESTORA   object\n",
       "6         CATEGORIA ECONÔMICA   object\n",
       "7              ORIGEM RECEITA   object\n",
       "8             ESPÉCIE RECEITA   object\n",
       "9                DETALHAMENTO   object\n",
       "10  VALOR PREVISTO ATUALIZADO   object\n",
       "11              VALOR LANÇADO   object\n",
       "12            VALOR REALIZADO   object\n",
       "13       PERCENTUAL REALIZADO   object\n",
       "14            DATA LANÇAMENTO   object\n",
       "15              ANO EXERCÍCIO  float64"
      ]
     },
     "execution_count": 16,
     "metadata": {},
     "output_type": "execute_result"
    }
   ],
   "source": [
    "dataframe_final.dtypes.reset_index()                             # vamos a empezar a cambiar tipos da datos"
   ]
  },
  {
   "cell_type": "code",
   "execution_count": 17,
   "metadata": {},
   "outputs": [
    {
     "data": {
      "text/html": [
       "<div>\n",
       "<style scoped>\n",
       "    .dataframe tbody tr th:only-of-type {\n",
       "        vertical-align: middle;\n",
       "    }\n",
       "\n",
       "    .dataframe tbody tr th {\n",
       "        vertical-align: top;\n",
       "    }\n",
       "\n",
       "    .dataframe thead th {\n",
       "        text-align: right;\n",
       "    }\n",
       "</style>\n",
       "<table border=\"1\" class=\"dataframe\">\n",
       "  <thead>\n",
       "    <tr style=\"text-align: right;\">\n",
       "      <th></th>\n",
       "      <th>CÓDIGO ÓRGÃO SUPERIOR</th>\n",
       "      <th>NOME ÓRGÃO SUPERIOR</th>\n",
       "      <th>CÓDIGO ÓRGÃO</th>\n",
       "      <th>NOME ÓRGÃO</th>\n",
       "      <th>CÓDIGO UNIDADE GESTORA</th>\n",
       "      <th>NOME UNIDADE GESTORA</th>\n",
       "      <th>CATEGORIA ECONÔMICA</th>\n",
       "      <th>ORIGEM RECEITA</th>\n",
       "      <th>ESPÉCIE RECEITA</th>\n",
       "      <th>DETALHAMENTO</th>\n",
       "      <th>VALOR PREVISTO ATUALIZADO</th>\n",
       "      <th>VALOR LANÇADO</th>\n",
       "      <th>VALOR REALIZADO</th>\n",
       "      <th>PERCENTUAL REALIZADO</th>\n",
       "      <th>DATA LANÇAMENTO</th>\n",
       "      <th>ANO EXERCÍCIO</th>\n",
       "    </tr>\n",
       "  </thead>\n",
       "  <tbody>\n",
       "    <tr>\n",
       "      <th>0</th>\n",
       "      <td>63000.0</td>\n",
       "      <td>NaN</td>\n",
       "      <td>63000.0</td>\n",
       "      <td>Advocacia-Geral da União - Unidades com víncul...</td>\n",
       "      <td>110060.0</td>\n",
       "      <td>COORD. GERAL DE ORC. FIN. E ANAL. CONT. - AGU</td>\n",
       "      <td>Receitas Correntes</td>\n",
       "      <td>Outras Receitas Correntes</td>\n",
       "      <td>Bens, Direitos e Valores Incorporados ao Patr</td>\n",
       "      <td>REC.DIVIDA ATIVA NAO TRIBUTARIA DE OUTRAS REC</td>\n",
       "      <td>0,00</td>\n",
       "      <td>0,00</td>\n",
       "      <td>1297,13</td>\n",
       "      <td>0,00</td>\n",
       "      <td>31/12/2013</td>\n",
       "      <td>NaN</td>\n",
       "    </tr>\n",
       "    <tr>\n",
       "      <th>1</th>\n",
       "      <td>63000.0</td>\n",
       "      <td>Advocacia-Geral da União</td>\n",
       "      <td>63000.0</td>\n",
       "      <td>Advocacia-Geral da União - Unidades com víncul...</td>\n",
       "      <td>110060.0</td>\n",
       "      <td>COORD. GERAL DE ORC. FIN. E ANAL. CONT. - AGU</td>\n",
       "      <td>Receitas Correntes</td>\n",
       "      <td>Outras Receitas Correntes</td>\n",
       "      <td>Indenizações, restituições e ressarcimentos</td>\n",
       "      <td>RECUPERACAO DE DESPESAS DE EXERC. ANTERIORES</td>\n",
       "      <td>0,00</td>\n",
       "      <td>0,00</td>\n",
       "      <td>26666621,42</td>\n",
       "      <td>0,00</td>\n",
       "      <td>31/12/2013</td>\n",
       "      <td>2013.0</td>\n",
       "    </tr>\n",
       "  </tbody>\n",
       "</table>\n",
       "</div>"
      ],
      "text/plain": [
       "   CÓDIGO ÓRGÃO SUPERIOR       NOME ÓRGÃO SUPERIOR  CÓDIGO ÓRGÃO  \\\n",
       "0                63000.0                       NaN       63000.0   \n",
       "1                63000.0  Advocacia-Geral da União       63000.0   \n",
       "\n",
       "                                          NOME ÓRGÃO  CÓDIGO UNIDADE GESTORA  \\\n",
       "0  Advocacia-Geral da União - Unidades com víncul...                110060.0   \n",
       "1  Advocacia-Geral da União - Unidades com víncul...                110060.0   \n",
       "\n",
       "                            NOME UNIDADE GESTORA CATEGORIA ECONÔMICA  \\\n",
       "0  COORD. GERAL DE ORC. FIN. E ANAL. CONT. - AGU  Receitas Correntes   \n",
       "1  COORD. GERAL DE ORC. FIN. E ANAL. CONT. - AGU  Receitas Correntes   \n",
       "\n",
       "              ORIGEM RECEITA                                ESPÉCIE RECEITA  \\\n",
       "0  Outras Receitas Correntes  Bens, Direitos e Valores Incorporados ao Patr   \n",
       "1  Outras Receitas Correntes    Indenizações, restituições e ressarcimentos   \n",
       "\n",
       "                                    DETALHAMENTO VALOR PREVISTO ATUALIZADO  \\\n",
       "0  REC.DIVIDA ATIVA NAO TRIBUTARIA DE OUTRAS REC                      0,00   \n",
       "1   RECUPERACAO DE DESPESAS DE EXERC. ANTERIORES                      0,00   \n",
       "\n",
       "  VALOR LANÇADO VALOR REALIZADO PERCENTUAL REALIZADO DATA LANÇAMENTO  \\\n",
       "0          0,00         1297,13                 0,00      31/12/2013   \n",
       "1          0,00     26666621,42                 0,00      31/12/2013   \n",
       "\n",
       "   ANO EXERCÍCIO  \n",
       "0            NaN  \n",
       "1         2013.0  "
      ]
     },
     "execution_count": 17,
     "metadata": {},
     "output_type": "execute_result"
    }
   ],
   "source": [
    "dataframe_final.head(2)"
   ]
  },
  {
   "cell_type": "code",
   "execution_count": null,
   "metadata": {},
   "outputs": [],
   "source": [
    "dataframe_final.to_csv('../datos/output/frame.preparacion.csv')                 #guardamos en carpeta output para asi realizar limpieza \n",
    "                                                                                #sobre el data frame final."
   ]
  }
 ],
 "metadata": {
  "kernelspec": {
   "display_name": "Python 3",
   "language": "python",
   "name": "python3"
  },
  "language_info": {
   "codemirror_mode": {
    "name": "ipython",
    "version": 3
   },
   "file_extension": ".py",
   "mimetype": "text/x-python",
   "name": "python",
   "nbconvert_exporter": "python",
   "pygments_lexer": "ipython3",
   "version": "3.12.6"
  }
 },
 "nbformat": 4,
 "nbformat_minor": 2
}
